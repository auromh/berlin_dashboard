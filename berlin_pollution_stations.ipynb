{
 "cells": [
  {
   "cell_type": "code",
   "execution_count": 17,
   "metadata": {},
   "outputs": [],
   "source": [
    "import pandas as pd\n",
    "import numpy as np"
   ]
  },
  {
   "cell_type": "markdown",
   "metadata": {},
   "source": [
    "# Loading stations information"
   ]
  },
  {
   "cell_type": "code",
   "execution_count": 29,
   "metadata": {},
   "outputs": [
    {
     "data": {
      "text/html": [
       "<div>\n",
       "<style scoped>\n",
       "    .dataframe tbody tr th:only-of-type {\n",
       "        vertical-align: middle;\n",
       "    }\n",
       "\n",
       "    .dataframe tbody tr th {\n",
       "        vertical-align: top;\n",
       "    }\n",
       "\n",
       "    .dataframe thead th {\n",
       "        text-align: right;\n",
       "    }\n",
       "</style>\n",
       "<table border=\"1\" class=\"dataframe\">\n",
       "  <thead>\n",
       "    <tr style=\"text-align: right;\">\n",
       "      <th></th>\n",
       "      <th>station</th>\n",
       "      <th>type</th>\n",
       "      <th>nördliche Breite</th>\n",
       "      <th>östliche Länge</th>\n",
       "      <th>Code</th>\n",
       "    </tr>\n",
       "  </thead>\n",
       "  <tbody>\n",
       "    <tr>\n",
       "      <td>0</td>\n",
       "      <td>010 Wedding</td>\n",
       "      <td>Hintergrund</td>\n",
       "      <td>52° 32' 34,9476\"</td>\n",
       "      <td>13° 20' 57,5736\"</td>\n",
       "      <td>mc010</td>\n",
       "    </tr>\n",
       "    <tr>\n",
       "      <td>1</td>\n",
       "      <td>018 Schöneberg</td>\n",
       "      <td>Hintergrund</td>\n",
       "      <td>52° 29' 8,93\"</td>\n",
       "      <td>13° 20' 55,59\"</td>\n",
       "      <td>mc018</td>\n",
       "    </tr>\n",
       "    <tr>\n",
       "      <td>2</td>\n",
       "      <td>027 Marienfelde</td>\n",
       "      <td>Stadtrand</td>\n",
       "      <td>52° 23' 54,26\"</td>\n",
       "      <td>13° 22' 5,17\"</td>\n",
       "      <td>mc027</td>\n",
       "    </tr>\n",
       "    <tr>\n",
       "      <td>3</td>\n",
       "      <td>032 Grunewald</td>\n",
       "      <td>Stadtrand</td>\n",
       "      <td>52° 28' 23,49\"</td>\n",
       "      <td>13° 13' 30,52\"</td>\n",
       "      <td>mc032</td>\n",
       "    </tr>\n",
       "    <tr>\n",
       "      <td>4</td>\n",
       "      <td>042 Neukölln</td>\n",
       "      <td>Hintergrund</td>\n",
       "      <td>52° 29' 21,98\"</td>\n",
       "      <td>13° 25' 51,08\"</td>\n",
       "      <td>mc042</td>\n",
       "    </tr>\n",
       "  </tbody>\n",
       "</table>\n",
       "</div>"
      ],
      "text/plain": [
       "           station         type  nördliche Breite    östliche Länge   Code\n",
       "0      010 Wedding  Hintergrund  52° 32' 34,9476\"  13° 20' 57,5736\"  mc010\n",
       "1   018 Schöneberg  Hintergrund     52° 29' 8,93\"    13° 20' 55,59\"  mc018\n",
       "2  027 Marienfelde    Stadtrand    52° 23' 54,26\"     13° 22' 5,17\"  mc027\n",
       "3    032 Grunewald    Stadtrand    52° 28' 23,49\"    13° 13' 30,52\"  mc032\n",
       "4     042 Neukölln  Hintergrund    52° 29' 21,98\"    13° 25' 51,08\"  mc042"
      ]
     },
     "execution_count": 29,
     "metadata": {},
     "output_type": "execute_result"
    }
   ],
   "source": [
    "stations=pd.read_csv(\"berlin_measure_stations.csv\",sep=\";\")\n",
    "stations.drop([\"Unnamed: 5\",\"Unnamed: 6\",\"Unnamed: 7\"],axis=1,inplace=True)\n",
    "stations.drop(17,axis=0,inplace=True)\n",
    "stations.head()"
   ]
  },
  {
   "cell_type": "markdown",
   "metadata": {},
   "source": [
    "# Downloading Berlin air quality data"
   ]
  },
  {
   "cell_type": "code",
   "execution_count": 19,
   "metadata": {},
   "outputs": [],
   "source": [
    "dates=[[\"01.01.2017\",\"01.12.2017\"],[\"02.12.2017\",\"20.11.2018\"],[\"21.11.2018\",\"06.11.2019\"]]"
   ]
  },
  {
   "cell_type": "code",
   "execution_count": 24,
   "metadata": {},
   "outputs": [],
   "source": [
    "\n",
    "new_df=pd.DataFrame()\n",
    "\n",
    "for code in stations[\"Code\"]:\n",
    "    for day in dates:\n",
    "        csv_downloadlink = f\"https://luftdaten.berlin.de/station/{code}.csv?group=pollution&period=1h&timespan=custom&start%5Bdate%5D={day[0]}&start%5Bhour%5D=00&end%5Bdate%5D={day[1]}&end%5Bhour%5D=23\"\n",
    "        district = pd.read_csv(csv_downloadlink, sep=\";\", header=[1,2])\n",
    "        district = district.drop([district.index[0]])\n",
    "        \n",
    "        district.columns = [f'{i}{j}' for i, j in district.columns]\n",
    "        district = district.rename(columns={\"Feinstaub (PM10)µg/m³\" : \"PM10\",\n",
    "                                        \"Kohlenmonoxidmg/m³\" : \"CO\",\n",
    "                                        \"Stickoxideµg/m³\": \"NOx\",\n",
    "                                        \"Stickstoffdioxidµg/m³\" : \"NO_2\", \n",
    "                                        \"Ozonµg/m³\" : \"O_3\",\n",
    "                                        \"Stickstoffmonoxidµg/m³\" : \"NO\",\n",
    "                                        \"Schwefeldioxidµg/m³\" : \"SO_2\", \n",
    "                                        \"Ortschaft\" : \"city\",\n",
    "                                        \"MesskomponenteEinheit\" : \"date\"})\n",
    "        if \"CO\" not in list(district.columns):\n",
    "            district=district.assign(CO=np.nan)\n",
    "        if \"SO_2\" not in list(district.columns):\n",
    "            district=district.assign(SO_2=np.nan)\n",
    "        if \"PM10\" not in list(district.columns):\n",
    "            district=district.assign(PM10=np.nan)\n",
    "        if \"O_3\" not in list(district.columns):\n",
    "            district=district.assign(O_3=np.nan)\n",
    "        if \"NO_2\" not in list(district.columns):\n",
    "            district=district.assign(NO_2=np.nan)\n",
    "        if \"NOx\" not in list(district.columns):\n",
    "            district=district.assign(NOx=np.nan)\n",
    "        if \"NO\" not in list(district.columns):\n",
    "            district=district.assign(NO=np.nan)\n",
    "        cols_to_keep=[\"date\",\"CO\",\"NO_2\",\"NOx\", \"O_3\", \"PM10\", \"SO_2\",\"NO\"]\n",
    "        to_drop=[col for col in district.columns if col not in cols_to_keep]\n",
    "        district.drop(to_drop,axis=1,inplace=True)\n",
    "        district=district[[\"date\",\"CO\",\"NO_2\",\"NOx\", \"O_3\", \"PM10\", \"SO_2\",\"NO\"]]\n",
    "        district=district.assign(Code=code)\n",
    "        new_df=new_df.append(district,ignore_index=True)"
   ]
  },
  {
   "cell_type": "code",
   "execution_count": 39,
   "metadata": {},
   "outputs": [
    {
     "data": {
      "text/html": [
       "<div>\n",
       "<style scoped>\n",
       "    .dataframe tbody tr th:only-of-type {\n",
       "        vertical-align: middle;\n",
       "    }\n",
       "\n",
       "    .dataframe tbody tr th {\n",
       "        vertical-align: top;\n",
       "    }\n",
       "\n",
       "    .dataframe thead th {\n",
       "        text-align: right;\n",
       "    }\n",
       "</style>\n",
       "<table border=\"1\" class=\"dataframe\">\n",
       "  <thead>\n",
       "    <tr style=\"text-align: right;\">\n",
       "      <th></th>\n",
       "      <th>date</th>\n",
       "      <th>CO</th>\n",
       "      <th>NO_2</th>\n",
       "      <th>NOx</th>\n",
       "      <th>O_3</th>\n",
       "      <th>PM10</th>\n",
       "      <th>SO_2</th>\n",
       "      <th>NO</th>\n",
       "      <th>Code</th>\n",
       "    </tr>\n",
       "  </thead>\n",
       "  <tbody>\n",
       "    <tr>\n",
       "      <td>0</td>\n",
       "      <td>01.01.2017 00:00</td>\n",
       "      <td>NaN</td>\n",
       "      <td>28</td>\n",
       "      <td>34</td>\n",
       "      <td>31</td>\n",
       "      <td>43</td>\n",
       "      <td>NaN</td>\n",
       "      <td>4</td>\n",
       "      <td>mc010</td>\n",
       "    </tr>\n",
       "    <tr>\n",
       "      <td>1</td>\n",
       "      <td>01.01.2017 01:00</td>\n",
       "      <td>NaN</td>\n",
       "      <td>48</td>\n",
       "      <td>76</td>\n",
       "      <td>8</td>\n",
       "      <td>185</td>\n",
       "      <td>NaN</td>\n",
       "      <td>19</td>\n",
       "      <td>mc010</td>\n",
       "    </tr>\n",
       "    <tr>\n",
       "      <td>2</td>\n",
       "      <td>01.01.2017 02:00</td>\n",
       "      <td>NaN</td>\n",
       "      <td>37</td>\n",
       "      <td>45</td>\n",
       "      <td>19</td>\n",
       "      <td>104</td>\n",
       "      <td>NaN</td>\n",
       "      <td>6</td>\n",
       "      <td>mc010</td>\n",
       "    </tr>\n",
       "    <tr>\n",
       "      <td>3</td>\n",
       "      <td>01.01.2017 03:00</td>\n",
       "      <td>NaN</td>\n",
       "      <td>NaN</td>\n",
       "      <td>NaN</td>\n",
       "      <td>22</td>\n",
       "      <td>67</td>\n",
       "      <td>NaN</td>\n",
       "      <td>NaN</td>\n",
       "      <td>mc010</td>\n",
       "    </tr>\n",
       "    <tr>\n",
       "      <td>4</td>\n",
       "      <td>01.01.2017 04:00</td>\n",
       "      <td>NaN</td>\n",
       "      <td>NaN</td>\n",
       "      <td>NaN</td>\n",
       "      <td>32</td>\n",
       "      <td>31</td>\n",
       "      <td>NaN</td>\n",
       "      <td>NaN</td>\n",
       "      <td>mc010</td>\n",
       "    </tr>\n",
       "    <tr>\n",
       "      <td>...</td>\n",
       "      <td>...</td>\n",
       "      <td>...</td>\n",
       "      <td>...</td>\n",
       "      <td>...</td>\n",
       "      <td>...</td>\n",
       "      <td>...</td>\n",
       "      <td>...</td>\n",
       "      <td>...</td>\n",
       "      <td>...</td>\n",
       "    </tr>\n",
       "    <tr>\n",
       "      <td>416162</td>\n",
       "      <td>06.11.2019 19:00</td>\n",
       "      <td>NaN</td>\n",
       "      <td>44</td>\n",
       "      <td>81</td>\n",
       "      <td>NaN</td>\n",
       "      <td>NaN</td>\n",
       "      <td>NaN</td>\n",
       "      <td>24</td>\n",
       "      <td>mc282</td>\n",
       "    </tr>\n",
       "    <tr>\n",
       "      <td>416163</td>\n",
       "      <td>06.11.2019 20:00</td>\n",
       "      <td>NaN</td>\n",
       "      <td>42</td>\n",
       "      <td>81</td>\n",
       "      <td>NaN</td>\n",
       "      <td>NaN</td>\n",
       "      <td>NaN</td>\n",
       "      <td>25</td>\n",
       "      <td>mc282</td>\n",
       "    </tr>\n",
       "    <tr>\n",
       "      <td>416164</td>\n",
       "      <td>06.11.2019 21:00</td>\n",
       "      <td>NaN</td>\n",
       "      <td>34</td>\n",
       "      <td>44</td>\n",
       "      <td>NaN</td>\n",
       "      <td>NaN</td>\n",
       "      <td>NaN</td>\n",
       "      <td>6</td>\n",
       "      <td>mc282</td>\n",
       "    </tr>\n",
       "    <tr>\n",
       "      <td>416165</td>\n",
       "      <td>06.11.2019 22:00</td>\n",
       "      <td>NaN</td>\n",
       "      <td>27</td>\n",
       "      <td>31</td>\n",
       "      <td>NaN</td>\n",
       "      <td>NaN</td>\n",
       "      <td>NaN</td>\n",
       "      <td>2</td>\n",
       "      <td>mc282</td>\n",
       "    </tr>\n",
       "    <tr>\n",
       "      <td>416166</td>\n",
       "      <td>06.11.2019 23:00</td>\n",
       "      <td>NaN</td>\n",
       "      <td>25</td>\n",
       "      <td>28</td>\n",
       "      <td>NaN</td>\n",
       "      <td>NaN</td>\n",
       "      <td>NaN</td>\n",
       "      <td>2</td>\n",
       "      <td>mc282</td>\n",
       "    </tr>\n",
       "  </tbody>\n",
       "</table>\n",
       "<p>416167 rows × 9 columns</p>\n",
       "</div>"
      ],
      "text/plain": [
       "                    date   CO NO_2  NOx  O_3 PM10 SO_2   NO   Code\n",
       "0       01.01.2017 00:00  NaN   28   34   31   43  NaN    4  mc010\n",
       "1       01.01.2017 01:00  NaN   48   76    8  185  NaN   19  mc010\n",
       "2       01.01.2017 02:00  NaN   37   45   19  104  NaN    6  mc010\n",
       "3       01.01.2017 03:00  NaN  NaN  NaN   22   67  NaN  NaN  mc010\n",
       "4       01.01.2017 04:00  NaN  NaN  NaN   32   31  NaN  NaN  mc010\n",
       "...                  ...  ...  ...  ...  ...  ...  ...  ...    ...\n",
       "416162  06.11.2019 19:00  NaN   44   81  NaN  NaN  NaN   24  mc282\n",
       "416163  06.11.2019 20:00  NaN   42   81  NaN  NaN  NaN   25  mc282\n",
       "416164  06.11.2019 21:00  NaN   34   44  NaN  NaN  NaN    6  mc282\n",
       "416165  06.11.2019 22:00  NaN   27   31  NaN  NaN  NaN    2  mc282\n",
       "416166  06.11.2019 23:00  NaN   25   28  NaN  NaN  NaN    2  mc282\n",
       "\n",
       "[416167 rows x 9 columns]"
      ]
     },
     "execution_count": 39,
     "metadata": {},
     "output_type": "execute_result"
    }
   ],
   "source": [
    "new_df"
   ]
  },
  {
   "cell_type": "markdown",
   "metadata": {},
   "source": [
    "# Checking types"
   ]
  },
  {
   "cell_type": "markdown",
   "metadata": {},
   "source": [
    "## Stations dataframe"
   ]
  },
  {
   "cell_type": "code",
   "execution_count": 30,
   "metadata": {},
   "outputs": [
    {
     "data": {
      "text/plain": [
       "station             object\n",
       "type                object\n",
       "nördliche Breite    object\n",
       "östliche Länge      object\n",
       "Code                object\n",
       "dtype: object"
      ]
     },
     "execution_count": 30,
     "metadata": {},
     "output_type": "execute_result"
    }
   ],
   "source": [
    "stations.dtypes"
   ]
  },
  {
   "cell_type": "markdown",
   "metadata": {},
   "source": [
    "## Pollution dataframe"
   ]
  },
  {
   "cell_type": "code",
   "execution_count": 56,
   "metadata": {},
   "outputs": [
    {
     "data": {
      "text/plain": [
       "date    object\n",
       "CO      object\n",
       "NO_2    object\n",
       "NOx     object\n",
       "O_3     object\n",
       "PM10    object\n",
       "SO_2    object\n",
       "NO      object\n",
       "Code    object\n",
       "dtype: object"
      ]
     },
     "execution_count": 56,
     "metadata": {},
     "output_type": "execute_result"
    }
   ],
   "source": [
    "pollution=new_df.copy()\n",
    "pollution.dtypes"
   ]
  },
  {
   "cell_type": "code",
   "execution_count": 58,
   "metadata": {},
   "outputs": [],
   "source": [
    "pollution[\"date\"]=pollution[\"date\"].str.replace(\".\",\"/\")"
   ]
  },
  {
   "cell_type": "code",
   "execution_count": 59,
   "metadata": {},
   "outputs": [
    {
     "data": {
      "text/plain": [
       "0        2017-01-01 00:00:00\n",
       "1        2017-01-01 01:00:00\n",
       "2        2017-01-01 02:00:00\n",
       "3        2017-01-01 03:00:00\n",
       "4        2017-01-01 04:00:00\n",
       "                 ...        \n",
       "416162   2019-11-06 19:00:00\n",
       "416163   2019-11-06 20:00:00\n",
       "416164   2019-11-06 21:00:00\n",
       "416165   2019-11-06 22:00:00\n",
       "416166   2019-11-06 23:00:00\n",
       "Name: date, Length: 416167, dtype: datetime64[ns]"
      ]
     },
     "execution_count": 59,
     "metadata": {},
     "output_type": "execute_result"
    }
   ],
   "source": [
    "# Changing date to datetime\n",
    "pollution[\"date\"]=pd.to_datetime(pollution[\"date\"],dayfirst=True,format=\"%d/%m/%Y %H:00\")\n",
    "pollution[\"date\"]"
   ]
  },
  {
   "cell_type": "code",
   "execution_count": 60,
   "metadata": {},
   "outputs": [],
   "source": [
    "# Changing pollutants to int\n",
    "pollution=pollution.astype({\"CO\":\"float\",\"NO_2\":\"float\",\"NOx\":\"float\", \"O_3\":\"float\", \"PM10\":\"float\", \"SO_2\":\"float\",\"NO\":\"float\"})"
   ]
  },
  {
   "cell_type": "code",
   "execution_count": 61,
   "metadata": {},
   "outputs": [
    {
     "data": {
      "text/plain": [
       "date    datetime64[ns]\n",
       "CO             float64\n",
       "NO_2           float64\n",
       "NOx            float64\n",
       "O_3            float64\n",
       "PM10           float64\n",
       "SO_2           float64\n",
       "NO             float64\n",
       "Code            object\n",
       "dtype: object"
      ]
     },
     "execution_count": 61,
     "metadata": {},
     "output_type": "execute_result"
    }
   ],
   "source": [
    "pollution.dtypes"
   ]
  },
  {
   "cell_type": "code",
   "execution_count": 62,
   "metadata": {},
   "outputs": [
    {
     "data": {
      "text/html": [
       "<div>\n",
       "<style scoped>\n",
       "    .dataframe tbody tr th:only-of-type {\n",
       "        vertical-align: middle;\n",
       "    }\n",
       "\n",
       "    .dataframe tbody tr th {\n",
       "        vertical-align: top;\n",
       "    }\n",
       "\n",
       "    .dataframe thead th {\n",
       "        text-align: right;\n",
       "    }\n",
       "</style>\n",
       "<table border=\"1\" class=\"dataframe\">\n",
       "  <thead>\n",
       "    <tr style=\"text-align: right;\">\n",
       "      <th></th>\n",
       "      <th>date</th>\n",
       "      <th>CO</th>\n",
       "      <th>NO_2</th>\n",
       "      <th>NOx</th>\n",
       "      <th>O_3</th>\n",
       "      <th>PM10</th>\n",
       "      <th>SO_2</th>\n",
       "      <th>NO</th>\n",
       "      <th>Code</th>\n",
       "    </tr>\n",
       "  </thead>\n",
       "  <tbody>\n",
       "    <tr>\n",
       "      <td>0</td>\n",
       "      <td>2017-01-01 00:00:00</td>\n",
       "      <td>NaN</td>\n",
       "      <td>28.0</td>\n",
       "      <td>34.0</td>\n",
       "      <td>31.0</td>\n",
       "      <td>43.0</td>\n",
       "      <td>NaN</td>\n",
       "      <td>4.0</td>\n",
       "      <td>mc010</td>\n",
       "    </tr>\n",
       "    <tr>\n",
       "      <td>1</td>\n",
       "      <td>2017-01-01 01:00:00</td>\n",
       "      <td>NaN</td>\n",
       "      <td>48.0</td>\n",
       "      <td>76.0</td>\n",
       "      <td>8.0</td>\n",
       "      <td>185.0</td>\n",
       "      <td>NaN</td>\n",
       "      <td>19.0</td>\n",
       "      <td>mc010</td>\n",
       "    </tr>\n",
       "    <tr>\n",
       "      <td>2</td>\n",
       "      <td>2017-01-01 02:00:00</td>\n",
       "      <td>NaN</td>\n",
       "      <td>37.0</td>\n",
       "      <td>45.0</td>\n",
       "      <td>19.0</td>\n",
       "      <td>104.0</td>\n",
       "      <td>NaN</td>\n",
       "      <td>6.0</td>\n",
       "      <td>mc010</td>\n",
       "    </tr>\n",
       "    <tr>\n",
       "      <td>3</td>\n",
       "      <td>2017-01-01 03:00:00</td>\n",
       "      <td>NaN</td>\n",
       "      <td>NaN</td>\n",
       "      <td>NaN</td>\n",
       "      <td>22.0</td>\n",
       "      <td>67.0</td>\n",
       "      <td>NaN</td>\n",
       "      <td>NaN</td>\n",
       "      <td>mc010</td>\n",
       "    </tr>\n",
       "    <tr>\n",
       "      <td>4</td>\n",
       "      <td>2017-01-01 04:00:00</td>\n",
       "      <td>NaN</td>\n",
       "      <td>NaN</td>\n",
       "      <td>NaN</td>\n",
       "      <td>32.0</td>\n",
       "      <td>31.0</td>\n",
       "      <td>NaN</td>\n",
       "      <td>NaN</td>\n",
       "      <td>mc010</td>\n",
       "    </tr>\n",
       "  </tbody>\n",
       "</table>\n",
       "</div>"
      ],
      "text/plain": [
       "                 date  CO  NO_2   NOx   O_3   PM10  SO_2    NO   Code\n",
       "0 2017-01-01 00:00:00 NaN  28.0  34.0  31.0   43.0   NaN   4.0  mc010\n",
       "1 2017-01-01 01:00:00 NaN  48.0  76.0   8.0  185.0   NaN  19.0  mc010\n",
       "2 2017-01-01 02:00:00 NaN  37.0  45.0  19.0  104.0   NaN   6.0  mc010\n",
       "3 2017-01-01 03:00:00 NaN   NaN   NaN  22.0   67.0   NaN   NaN  mc010\n",
       "4 2017-01-01 04:00:00 NaN   NaN   NaN  32.0   31.0   NaN   NaN  mc010"
      ]
     },
     "execution_count": 62,
     "metadata": {},
     "output_type": "execute_result"
    }
   ],
   "source": [
    "pollution.head()"
   ]
  },
  {
   "cell_type": "markdown",
   "metadata": {},
   "source": [
    "# Exporting files as pickle"
   ]
  },
  {
   "cell_type": "code",
   "execution_count": 63,
   "metadata": {},
   "outputs": [],
   "source": [
    "stations.to_pickle(\"stations.pkl\")\n",
    "pollution.to_pickle(\"pollution.pkl\")"
   ]
  }
 ],
 "metadata": {
  "kernelspec": {
   "display_name": "Python 3",
   "language": "python",
   "name": "python3"
  },
  "language_info": {
   "codemirror_mode": {
    "name": "ipython",
    "version": 3
   },
   "file_extension": ".py",
   "mimetype": "text/x-python",
   "name": "python",
   "nbconvert_exporter": "python",
   "pygments_lexer": "ipython3",
   "version": "3.7.4"
  }
 },
 "nbformat": 4,
 "nbformat_minor": 2
}
