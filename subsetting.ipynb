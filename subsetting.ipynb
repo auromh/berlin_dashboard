{
 "cells": [
  {
   "cell_type": "code",
   "execution_count": 1,
   "metadata": {},
   "outputs": [],
   "source": [
    "import pandas as pd"
   ]
  },
  {
   "cell_type": "markdown",
   "metadata": {},
   "source": [
    "# Subsetting\n",
    "We want to subset and aggregate already in pandas so be able to use the proper tables in Tableau"
   ]
  },
  {
   "cell_type": "code",
   "execution_count": 2,
   "metadata": {},
   "outputs": [
    {
     "data": {
      "text/html": [
       "<div>\n",
       "<style scoped>\n",
       "    .dataframe tbody tr th:only-of-type {\n",
       "        vertical-align: middle;\n",
       "    }\n",
       "\n",
       "    .dataframe tbody tr th {\n",
       "        vertical-align: top;\n",
       "    }\n",
       "\n",
       "    .dataframe thead th {\n",
       "        text-align: right;\n",
       "    }\n",
       "</style>\n",
       "<table border=\"1\" class=\"dataframe\">\n",
       "  <thead>\n",
       "    <tr style=\"text-align: right;\">\n",
       "      <th></th>\n",
       "      <th>date</th>\n",
       "      <th>CO</th>\n",
       "      <th>NO_2</th>\n",
       "      <th>NOx</th>\n",
       "      <th>O_3</th>\n",
       "      <th>PM10</th>\n",
       "      <th>SO_2</th>\n",
       "      <th>NO</th>\n",
       "      <th>Code</th>\n",
       "      <th>station</th>\n",
       "      <th>type</th>\n",
       "      <th>nördliche Breite</th>\n",
       "      <th>östliche Länge</th>\n",
       "    </tr>\n",
       "  </thead>\n",
       "  <tbody>\n",
       "    <tr>\n",
       "      <td>0</td>\n",
       "      <td>2017-01-01 00:00:00</td>\n",
       "      <td>NaN</td>\n",
       "      <td>28.0</td>\n",
       "      <td>34.0</td>\n",
       "      <td>31.0</td>\n",
       "      <td>43.0</td>\n",
       "      <td>NaN</td>\n",
       "      <td>4.0</td>\n",
       "      <td>mc010</td>\n",
       "      <td>010 Wedding</td>\n",
       "      <td>Hintergrund</td>\n",
       "      <td>52° 32' 34,9476\"</td>\n",
       "      <td>13° 20' 57,5736\"</td>\n",
       "    </tr>\n",
       "    <tr>\n",
       "      <td>1</td>\n",
       "      <td>2017-01-01 01:00:00</td>\n",
       "      <td>NaN</td>\n",
       "      <td>48.0</td>\n",
       "      <td>76.0</td>\n",
       "      <td>8.0</td>\n",
       "      <td>185.0</td>\n",
       "      <td>NaN</td>\n",
       "      <td>19.0</td>\n",
       "      <td>mc010</td>\n",
       "      <td>010 Wedding</td>\n",
       "      <td>Hintergrund</td>\n",
       "      <td>52° 32' 34,9476\"</td>\n",
       "      <td>13° 20' 57,5736\"</td>\n",
       "    </tr>\n",
       "    <tr>\n",
       "      <td>2</td>\n",
       "      <td>2017-01-01 02:00:00</td>\n",
       "      <td>NaN</td>\n",
       "      <td>37.0</td>\n",
       "      <td>45.0</td>\n",
       "      <td>19.0</td>\n",
       "      <td>104.0</td>\n",
       "      <td>NaN</td>\n",
       "      <td>6.0</td>\n",
       "      <td>mc010</td>\n",
       "      <td>010 Wedding</td>\n",
       "      <td>Hintergrund</td>\n",
       "      <td>52° 32' 34,9476\"</td>\n",
       "      <td>13° 20' 57,5736\"</td>\n",
       "    </tr>\n",
       "    <tr>\n",
       "      <td>3</td>\n",
       "      <td>2017-01-01 03:00:00</td>\n",
       "      <td>NaN</td>\n",
       "      <td>NaN</td>\n",
       "      <td>NaN</td>\n",
       "      <td>22.0</td>\n",
       "      <td>67.0</td>\n",
       "      <td>NaN</td>\n",
       "      <td>NaN</td>\n",
       "      <td>mc010</td>\n",
       "      <td>010 Wedding</td>\n",
       "      <td>Hintergrund</td>\n",
       "      <td>52° 32' 34,9476\"</td>\n",
       "      <td>13° 20' 57,5736\"</td>\n",
       "    </tr>\n",
       "    <tr>\n",
       "      <td>4</td>\n",
       "      <td>2017-01-01 04:00:00</td>\n",
       "      <td>NaN</td>\n",
       "      <td>NaN</td>\n",
       "      <td>NaN</td>\n",
       "      <td>32.0</td>\n",
       "      <td>31.0</td>\n",
       "      <td>NaN</td>\n",
       "      <td>NaN</td>\n",
       "      <td>mc010</td>\n",
       "      <td>010 Wedding</td>\n",
       "      <td>Hintergrund</td>\n",
       "      <td>52° 32' 34,9476\"</td>\n",
       "      <td>13° 20' 57,5736\"</td>\n",
       "    </tr>\n",
       "  </tbody>\n",
       "</table>\n",
       "</div>"
      ],
      "text/plain": [
       "                 date  CO  NO_2   NOx   O_3   PM10  SO_2    NO   Code  \\\n",
       "0 2017-01-01 00:00:00 NaN  28.0  34.0  31.0   43.0   NaN   4.0  mc010   \n",
       "1 2017-01-01 01:00:00 NaN  48.0  76.0   8.0  185.0   NaN  19.0  mc010   \n",
       "2 2017-01-01 02:00:00 NaN  37.0  45.0  19.0  104.0   NaN   6.0  mc010   \n",
       "3 2017-01-01 03:00:00 NaN   NaN   NaN  22.0   67.0   NaN   NaN  mc010   \n",
       "4 2017-01-01 04:00:00 NaN   NaN   NaN  32.0   31.0   NaN   NaN  mc010   \n",
       "\n",
       "       station         type  nördliche Breite    östliche Länge  \n",
       "0  010 Wedding  Hintergrund  52° 32' 34,9476\"  13° 20' 57,5736\"  \n",
       "1  010 Wedding  Hintergrund  52° 32' 34,9476\"  13° 20' 57,5736\"  \n",
       "2  010 Wedding  Hintergrund  52° 32' 34,9476\"  13° 20' 57,5736\"  \n",
       "3  010 Wedding  Hintergrund  52° 32' 34,9476\"  13° 20' 57,5736\"  \n",
       "4  010 Wedding  Hintergrund  52° 32' 34,9476\"  13° 20' 57,5736\"  "
      ]
     },
     "execution_count": 2,
     "metadata": {},
     "output_type": "execute_result"
    }
   ],
   "source": [
    "berlin_pol_sta=pd.read_pickle(\"berlin_pol_sta.pkl\")\n",
    "berlin_pol_sta.head()"
   ]
  },
  {
   "cell_type": "markdown",
   "metadata": {},
   "source": [
    "# Create Hourly dataframe"
   ]
  },
  {
   "cell_type": "code",
   "execution_count": 3,
   "metadata": {},
   "outputs": [
    {
     "data": {
      "text/html": [
       "<div>\n",
       "<style scoped>\n",
       "    .dataframe tbody tr th:only-of-type {\n",
       "        vertical-align: middle;\n",
       "    }\n",
       "\n",
       "    .dataframe tbody tr th {\n",
       "        vertical-align: top;\n",
       "    }\n",
       "\n",
       "    .dataframe thead th {\n",
       "        text-align: right;\n",
       "    }\n",
       "</style>\n",
       "<table border=\"1\" class=\"dataframe\">\n",
       "  <thead>\n",
       "    <tr style=\"text-align: right;\">\n",
       "      <th></th>\n",
       "      <th>date</th>\n",
       "      <th>hour</th>\n",
       "      <th>CO</th>\n",
       "      <th>NO_2</th>\n",
       "      <th>NOx</th>\n",
       "      <th>O_3</th>\n",
       "      <th>PM10</th>\n",
       "      <th>SO_2</th>\n",
       "      <th>NO</th>\n",
       "      <th>Code</th>\n",
       "      <th>station</th>\n",
       "      <th>type</th>\n",
       "      <th>nördliche Breite</th>\n",
       "      <th>östliche Länge</th>\n",
       "    </tr>\n",
       "  </thead>\n",
       "  <tbody>\n",
       "    <tr>\n",
       "      <td>0</td>\n",
       "      <td>2017-01-01</td>\n",
       "      <td>00:00:00</td>\n",
       "      <td>NaN</td>\n",
       "      <td>28.0</td>\n",
       "      <td>34.0</td>\n",
       "      <td>31.0</td>\n",
       "      <td>43.0</td>\n",
       "      <td>NaN</td>\n",
       "      <td>4.0</td>\n",
       "      <td>mc010</td>\n",
       "      <td>010 Wedding</td>\n",
       "      <td>Hintergrund</td>\n",
       "      <td>52° 32' 34,9476\"</td>\n",
       "      <td>13° 20' 57,5736\"</td>\n",
       "    </tr>\n",
       "    <tr>\n",
       "      <td>1</td>\n",
       "      <td>2017-01-01</td>\n",
       "      <td>01:00:00</td>\n",
       "      <td>NaN</td>\n",
       "      <td>48.0</td>\n",
       "      <td>76.0</td>\n",
       "      <td>8.0</td>\n",
       "      <td>185.0</td>\n",
       "      <td>NaN</td>\n",
       "      <td>19.0</td>\n",
       "      <td>mc010</td>\n",
       "      <td>010 Wedding</td>\n",
       "      <td>Hintergrund</td>\n",
       "      <td>52° 32' 34,9476\"</td>\n",
       "      <td>13° 20' 57,5736\"</td>\n",
       "    </tr>\n",
       "    <tr>\n",
       "      <td>2</td>\n",
       "      <td>2017-01-01</td>\n",
       "      <td>02:00:00</td>\n",
       "      <td>NaN</td>\n",
       "      <td>37.0</td>\n",
       "      <td>45.0</td>\n",
       "      <td>19.0</td>\n",
       "      <td>104.0</td>\n",
       "      <td>NaN</td>\n",
       "      <td>6.0</td>\n",
       "      <td>mc010</td>\n",
       "      <td>010 Wedding</td>\n",
       "      <td>Hintergrund</td>\n",
       "      <td>52° 32' 34,9476\"</td>\n",
       "      <td>13° 20' 57,5736\"</td>\n",
       "    </tr>\n",
       "    <tr>\n",
       "      <td>3</td>\n",
       "      <td>2017-01-01</td>\n",
       "      <td>03:00:00</td>\n",
       "      <td>NaN</td>\n",
       "      <td>NaN</td>\n",
       "      <td>NaN</td>\n",
       "      <td>22.0</td>\n",
       "      <td>67.0</td>\n",
       "      <td>NaN</td>\n",
       "      <td>NaN</td>\n",
       "      <td>mc010</td>\n",
       "      <td>010 Wedding</td>\n",
       "      <td>Hintergrund</td>\n",
       "      <td>52° 32' 34,9476\"</td>\n",
       "      <td>13° 20' 57,5736\"</td>\n",
       "    </tr>\n",
       "    <tr>\n",
       "      <td>4</td>\n",
       "      <td>2017-01-01</td>\n",
       "      <td>04:00:00</td>\n",
       "      <td>NaN</td>\n",
       "      <td>NaN</td>\n",
       "      <td>NaN</td>\n",
       "      <td>32.0</td>\n",
       "      <td>31.0</td>\n",
       "      <td>NaN</td>\n",
       "      <td>NaN</td>\n",
       "      <td>mc010</td>\n",
       "      <td>010 Wedding</td>\n",
       "      <td>Hintergrund</td>\n",
       "      <td>52° 32' 34,9476\"</td>\n",
       "      <td>13° 20' 57,5736\"</td>\n",
       "    </tr>\n",
       "  </tbody>\n",
       "</table>\n",
       "</div>"
      ],
      "text/plain": [
       "        date      hour  CO  NO_2   NOx   O_3   PM10  SO_2    NO   Code  \\\n",
       "0 2017-01-01  00:00:00 NaN  28.0  34.0  31.0   43.0   NaN   4.0  mc010   \n",
       "1 2017-01-01  01:00:00 NaN  48.0  76.0   8.0  185.0   NaN  19.0  mc010   \n",
       "2 2017-01-01  02:00:00 NaN  37.0  45.0  19.0  104.0   NaN   6.0  mc010   \n",
       "3 2017-01-01  03:00:00 NaN   NaN   NaN  22.0   67.0   NaN   NaN  mc010   \n",
       "4 2017-01-01  04:00:00 NaN   NaN   NaN  32.0   31.0   NaN   NaN  mc010   \n",
       "\n",
       "       station         type  nördliche Breite    östliche Länge  \n",
       "0  010 Wedding  Hintergrund  52° 32' 34,9476\"  13° 20' 57,5736\"  \n",
       "1  010 Wedding  Hintergrund  52° 32' 34,9476\"  13° 20' 57,5736\"  \n",
       "2  010 Wedding  Hintergrund  52° 32' 34,9476\"  13° 20' 57,5736\"  \n",
       "3  010 Wedding  Hintergrund  52° 32' 34,9476\"  13° 20' 57,5736\"  \n",
       "4  010 Wedding  Hintergrund  52° 32' 34,9476\"  13° 20' 57,5736\"  "
      ]
     },
     "execution_count": 3,
     "metadata": {},
     "output_type": "execute_result"
    }
   ],
   "source": [
    "hourly=berlin_pol_sta.copy()\n",
    "hourly=hourly.assign(hour=hourly[\"date\"].dt.time)\n",
    "hourly[\"date\"]=hourly[\"date\"].dt.strftime(\"%Y-%m-%d\")\n",
    "hourly[\"date\"]=pd.to_datetime(hourly[\"date\"],format=\"%Y-%m-%d\")\n",
    "hourly=hourly[[\"date\",\"hour\",\"CO\",\"NO_2\",\"NOx\",\"O_3\",\"PM10\",\"SO_2\",\"NO\",\"Code\",\"station\",\"type\",\"nördliche Breite\",\"östliche Länge\"]]\n",
    "hourly.head()"
   ]
  },
  {
   "cell_type": "code",
   "execution_count": 4,
   "metadata": {},
   "outputs": [],
   "source": [
    "hourly.to_csv(\"hourly_poll_ber.csv\")"
   ]
  },
  {
   "cell_type": "markdown",
   "metadata": {},
   "source": [
    "# Daily dataframe"
   ]
  },
  {
   "cell_type": "code",
   "execution_count": 5,
   "metadata": {},
   "outputs": [],
   "source": [
    "daily=hourly.copy()"
   ]
  },
  {
   "cell_type": "code",
   "execution_count": 6,
   "metadata": {},
   "outputs": [],
   "source": [
    "stations=pd.read_pickle(\"stations.pkl\")"
   ]
  },
  {
   "cell_type": "code",
   "execution_count": 7,
   "metadata": {},
   "outputs": [],
   "source": [
    "daily=daily.groupby([\"date\",\"Code\"]).mean().reset_index()\n",
    "daily=daily.merge(stations,on=\"Code\")\n",
    "daily=daily.sort_values(\"date\").reset_index(drop=True)"
   ]
  },
  {
   "cell_type": "code",
   "execution_count": 8,
   "metadata": {},
   "outputs": [],
   "source": [
    "daily.to_csv(\"daily_poll_ber.csv\")"
   ]
  },
  {
   "cell_type": "markdown",
   "metadata": {},
   "source": [
    "# Monthly dataframe"
   ]
  },
  {
   "cell_type": "code",
   "execution_count": 9,
   "metadata": {},
   "outputs": [],
   "source": [
    "monthly=daily.copy()"
   ]
  },
  {
   "cell_type": "code",
   "execution_count": 10,
   "metadata": {},
   "outputs": [],
   "source": [
    "monthly[\"date\"]=pd.to_datetime(monthly[\"date\"].dt.to_period(\"M\").astype(str))\n",
    "monthly=monthly.groupby([\"date\",\"Code\"]).mean().reset_index()\n",
    "monthly=monthly.merge(stations,on=\"Code\")\n",
    "monthly=monthly.sort_values(\"date\").reset_index(drop=True)"
   ]
  },
  {
   "cell_type": "code",
   "execution_count": 11,
   "metadata": {
    "scrolled": false
   },
   "outputs": [],
   "source": [
    "monthly.to_csv(\"monthly_poll_ber.csv\")"
   ]
  },
  {
   "cell_type": "code",
   "execution_count": null,
   "metadata": {},
   "outputs": [],
   "source": []
  }
 ],
 "metadata": {
  "kernelspec": {
   "display_name": "Python 3",
   "language": "python",
   "name": "python3"
  },
  "language_info": {
   "codemirror_mode": {
    "name": "ipython",
    "version": 3
   },
   "file_extension": ".py",
   "mimetype": "text/x-python",
   "name": "python",
   "nbconvert_exporter": "python",
   "pygments_lexer": "ipython3",
   "version": "3.7.4"
  }
 },
 "nbformat": 4,
 "nbformat_minor": 2
}
